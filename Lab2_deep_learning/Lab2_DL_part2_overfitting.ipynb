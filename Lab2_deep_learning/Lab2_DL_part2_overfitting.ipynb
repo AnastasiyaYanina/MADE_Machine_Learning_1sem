{
 "cells": [
  {
   "cell_type": "markdown",
   "metadata": {
    "id": "NFmOh482SyEF"
   },
   "source": [
    "## Lab 2\n",
    "### Part 2: Dealing with overfitting"
   ]
  },
  {
   "cell_type": "markdown",
   "metadata": {
    "id": "AjzAuO3oSvsI"
   },
   "source": [
    "Today we work with [Fashion-MNIST dataset](https://github.com/zalandoresearch/fashion-mnist) (*hint: it is available in `torchvision`*).\n",
    "\n",
    "Your goal for today:\n",
    "1. Train a FC (fully-connected) network that achieves >= 0.885 test accuracy.\n",
    "2. Cause considerable overfitting by modifying the network (e.g. increasing the number of network parameters and/or layers) and demonstrate in in the appropriate way (e.g. plot loss and accurasy on train and validation set w.r.t. network complexity).\n",
    "3. Try to deal with overfitting (at least partially) by using regularization techniques (Dropout/Batchnorm/...) and demonstrate the results.\n",
    "\n",
    "__Please, write a small report describing your ideas, tries and achieved results in the end of this file.__\n",
    "\n",
    "*Note*: Tasks 2 and 3 are interrelated, in task 3 your goal is to make the network from task 2 less prone to overfitting. Task 1 is independent from 2 and 3.\n",
    "\n",
    "*Note 2*: We recomment to use Google Colab or other machine with GPU acceleration."
   ]
  },
  {
   "cell_type": "code",
   "execution_count": null,
   "metadata": {
    "id": "_KBld6VOSwhW"
   },
   "outputs": [],
   "source": [
    "import torch\n",
    "import torch.nn as nn\n",
    "import torchvision\n",
    "import torchvision.transforms as transforms\n",
    "import torchsummary\n",
    "from IPython.display import clear_output\n",
    "from matplotlib import pyplot as plt\n",
    "from matplotlib.pyplot import figure\n",
    "import numpy as np\n",
    "import os\n",
    "import torch.optim as optim\n",
    "\n",
    "\n",
    "device = 'cuda:0' if torch.cuda.is_available() else 'cpu'"
   ]
  },
  {
   "cell_type": "code",
   "execution_count": null,
   "metadata": {
    "colab": {
     "base_uri": "https://localhost:8080/"
    },
    "id": "EdLOG0XqS_g5",
    "outputId": "a429776a-73c8-4fd7-8a7b-cc77ccbb911f"
   },
   "outputs": [
    {
     "name": "stdout",
     "output_type": "stream",
     "text": [
      "Directory fmnist already exists!\n"
     ]
    }
   ],
   "source": [
    "# Technical function\n",
    "def mkdir(path):\n",
    "    if not os.path.exists(root_path):\n",
    "        os.mkdir(root_path)\n",
    "        print('Directory', path, 'is created!')\n",
    "    else:\n",
    "        print('Directory', path, 'already exists!')\n",
    "        \n",
    "root_path = 'fmnist'\n",
    "mkdir(root_path)"
   ]
  },
  {
   "cell_type": "code",
   "execution_count": null,
   "metadata": {
    "id": "qt6LE7XaTDT9"
   },
   "outputs": [],
   "source": [
    "download = True\n",
    "train_transform = transforms.ToTensor()\n",
    "test_transform = transforms.ToTensor()\n",
    "transforms.Compose((transforms.ToTensor()))\n",
    "\n",
    "\n",
    "fmnist_dataset_train = torchvision.datasets.FashionMNIST(root_path, \n",
    "                                                        train=True, \n",
    "                                                        transform=train_transform,\n",
    "                                                        target_transform=None,\n",
    "                                                        download=download)\n",
    "fmnist_dataset_test = torchvision.datasets.FashionMNIST(root_path, \n",
    "                                                       train=False, \n",
    "                                                       transform=test_transform,\n",
    "                                                       target_transform=None,\n",
    "                                                       download=download)"
   ]
  },
  {
   "cell_type": "code",
   "execution_count": null,
   "metadata": {
    "id": "71YP0SPwTIxD"
   },
   "outputs": [],
   "source": [
    "train_loader = torch.utils.data.DataLoader(fmnist_dataset_train, \n",
    "                                           batch_size=128,# 64\n",
    "                                           shuffle=True,\n",
    "                                           num_workers=0)\n",
    "test_loader = torch.utils.data.DataLoader(fmnist_dataset_test,\n",
    "                                          batch_size=128,\n",
    "                                          shuffle=False,\n",
    "                                          num_workers=0)"
   ]
  },
  {
   "cell_type": "code",
   "execution_count": null,
   "metadata": {
    "colab": {
     "base_uri": "https://localhost:8080/"
    },
    "id": "v_YFmF7NTWrQ",
    "outputId": "d21b07c2-f113-40d7-9f70-f132dfd2a74d"
   },
   "outputs": [
    {
     "data": {
      "text/plain": [
       "10000"
      ]
     },
     "execution_count": 69,
     "metadata": {},
     "output_type": "execute_result"
    }
   ],
   "source": [
    "len(fmnist_dataset_test)"
   ]
  },
  {
   "cell_type": "markdown",
   "metadata": {
    "id": "b6OOOffHTfX5"
   },
   "source": [
    "### Task 1\n",
    "Train a network that achieves $\\geq 0.885$ test accuracy. It's fine to use only Linear (`nn.Linear`) layers and activations/dropout/batchnorm. Convolutional layers might be a great use, but we will meet them a bit later."
   ]
  },
  {
   "cell_type": "code",
   "execution_count": null,
   "metadata": {
    "id": "ftpkTjxlTcFx"
   },
   "outputs": [],
   "source": [
    "class TinyNeuralNetwork(nn.Module):\n",
    "    def __init__(self, input_shape=28*28, num_classes=10, input_channels=1):\n",
    "        super().__init__()\n",
    "        self.model = nn.Sequential(\n",
    "            nn.Flatten(), # This layer converts image into a vector to use Linear layers afterwards\n",
    "            # Your network structure comes here\n",
    "            nn.Linear(input_shape, 256),\n",
    "            nn.Dropout(p = 0.1),            \n",
    "            nn.LeakyReLU(),\n",
    "            nn.Linear(256, 128),\n",
    "            nn.Dropout(p = 0.1),\n",
    "            nn.LeakyReLU(),\n",
    "            nn.Linear(128, 128),\n",
    "            nn.BatchNorm1d(128),\n",
    "            nn.Dropout(p = 0.1),            \n",
    "            nn.LeakyReLU(),\n",
    "            nn.Linear(128, num_classes)\n",
    "        )\n",
    "        \n",
    "    def forward(self, inp):       \n",
    "        out = self.model(inp)\n",
    "        return out"
   ]
  },
  {
   "cell_type": "code",
   "execution_count": null,
   "metadata": {
    "colab": {
     "base_uri": "https://localhost:8080/"
    },
    "id": "DpYNmDAx-b5d",
    "outputId": "efafc9c3-ca0a-4a4d-9baf-ae68629cbcac"
   },
   "outputs": [
    {
     "name": "stdout",
     "output_type": "stream",
     "text": [
      "----------------------------------------------------------------\n",
      "        Layer (type)               Output Shape         Param #\n",
      "================================================================\n",
      "           Flatten-1                 [128, 784]               0\n",
      "            Linear-2                 [128, 256]         200,960\n",
      "           Dropout-3                 [128, 256]               0\n",
      "         LeakyReLU-4                 [128, 256]               0\n",
      "            Linear-5                 [128, 128]          32,896\n",
      "           Dropout-6                 [128, 128]               0\n",
      "         LeakyReLU-7                 [128, 128]               0\n",
      "            Linear-8                 [128, 128]          16,512\n",
      "       BatchNorm1d-9                 [128, 128]             256\n",
      "          Dropout-10                 [128, 128]               0\n",
      "        LeakyReLU-11                 [128, 128]               0\n",
      "           Linear-12                  [128, 10]           1,290\n",
      "================================================================\n",
      "Total params: 251,914\n",
      "Trainable params: 251,914\n",
      "Non-trainable params: 0\n",
      "----------------------------------------------------------------\n",
      "Input size (MB): 0.38\n",
      "Forward/backward pass size (MB): 2.40\n",
      "Params size (MB): 0.96\n",
      "Estimated Total Size (MB): 3.74\n",
      "----------------------------------------------------------------\n"
     ]
    }
   ],
   "source": [
    "from torchsummary import summary\n",
    "summary(TinyNeuralNetwork().to(device), (28*28,), batch_size=128)"
   ]
  },
  {
   "cell_type": "markdown",
   "metadata": {
    "id": "544PGKEnjPr5"
   },
   "source": [
    "Your experiments come here:"
   ]
  },
  {
   "cell_type": "code",
   "execution_count": null,
   "metadata": {
    "id": "i3POFj90Ti-6"
   },
   "outputs": [],
   "source": [
    "model = TinyNeuralNetwork().to(device)\n",
    "optimizer = optim.AdamW(model.parameters(), lr=5e-3)\n",
    "loss_func = nn.CrossEntropyLoss()"
   ]
  },
  {
   "cell_type": "code",
   "execution_count": null,
   "metadata": {
    "id": "E9Y5z7tAa_aO"
   },
   "outputs": [],
   "source": [
    "loaders = {\n",
    "    \"train\": train_loader, \n",
    "    \"valid\": test_loader\n",
    "}"
   ]
  },
  {
   "cell_type": "code",
   "execution_count": null,
   "metadata": {
    "colab": {
     "base_uri": "https://localhost:8080/",
     "height": 937,
     "referenced_widgets": [
      "37106fc706874eccaa707fa2b61ad153",
      "23f1fd4bd2224f7c9f8ebd4e67718ab8",
      "39212297051c43f5bdc995c68bb5c8d6",
      "d3ba012556d04303a033ecccd35a36c9",
      "bce185cb090946f3952aa82e2ec3d5df",
      "68e14fe006824932b9f4bab861655267",
      "bf6d0f896d2841cab605b0eb77cc4a68",
      "dbded1203e604b0fb2469d72c6959400",
      "2f6dfa5e098341c98505b2027726d7fe",
      "fbafa686231346ca842edf53deea3ab8",
      "721d491b1752444c8172264f46e34e2a"
     ]
    },
    "id": "EdlpXZ3mamZY",
    "outputId": "13a36b30-4a4a-45bf-9718-b3ece9454586"
   },
   "outputs": [
    {
     "name": "stderr",
     "output_type": "stream",
     "text": [
      "/usr/local/lib/python3.7/dist-packages/ipykernel_launcher.py:12: TqdmDeprecationWarning: This function will be removed in tqdm==5.0.0\n",
      "Please use `tqdm.notebook.tqdm` instead of `tqdm.tqdm_notebook`\n",
      "  if sys.path[0] == '':\n"
     ]
    },
    {
     "data": {
      "application/vnd.jupyter.widget-view+json": {
       "model_id": "37106fc706874eccaa707fa2b61ad153",
       "version_major": 2,
       "version_minor": 0
      },
      "text/plain": [
       "  0%|          | 0/15 [00:00<?, ?it/s]"
      ]
     },
     "metadata": {},
     "output_type": "display_data"
    },
    {
     "name": "stderr",
     "output_type": "stream",
     "text": [
      "/usr/local/lib/python3.7/dist-packages/torch/optim/lr_scheduler.py:134: UserWarning: Detected call of `lr_scheduler.step()` before `optimizer.step()`. In PyTorch 1.1.0 and later, you should call them in the opposite order: `optimizer.step()` before `lr_scheduler.step()`.  Failure to do this will result in PyTorch skipping the first value of the learning rate schedule. See more details at https://pytorch.org/docs/stable/optim.html#how-to-adjust-learning-rate\n",
      "  \"https://pytorch.org/docs/stable/optim.html#how-to-adjust-learning-rate\", UserWarning)\n"
     ]
    },
    {
     "name": "stdout",
     "output_type": "stream",
     "text": [
      "Epoch: 1\n",
      "Loader: train. Accuracy: 0.8102833333333334\n",
      "Loader: valid. Accuracy: 0.8359\n",
      "Epoch: 2\n",
      "Loader: train. Accuracy: 0.8534333333333334\n",
      "Loader: valid. Accuracy: 0.8472\n",
      "Epoch: 3\n",
      "Loader: train. Accuracy: 0.8658166666666667\n",
      "Loader: valid. Accuracy: 0.8553\n",
      "Epoch: 4\n",
      "Loader: train. Accuracy: 0.8719833333333333\n",
      "Loader: valid. Accuracy: 0.8675\n",
      "Epoch: 5\n",
      "Loader: train. Accuracy: 0.87765\n",
      "Loader: valid. Accuracy: 0.8698\n",
      "Epoch: 6\n",
      "Loader: train. Accuracy: 0.8806333333333334\n",
      "Loader: valid. Accuracy: 0.8651\n",
      "Epoch: 7\n",
      "Loader: train. Accuracy: 0.8988833333333334\n",
      "Loader: valid. Accuracy: 0.8844\n",
      "Epoch: 8\n",
      "Loader: train. Accuracy: 0.9026\n",
      "Loader: valid. Accuracy: 0.8853\n",
      "Epoch: 9\n",
      "Loader: train. Accuracy: 0.90465\n",
      "Loader: valid. Accuracy: 0.8867\n",
      "Epoch: 10\n",
      "Loader: train. Accuracy: 0.9071833333333333\n",
      "Loader: valid. Accuracy: 0.8897\n",
      "Epoch: 11\n",
      "Loader: train. Accuracy: 0.9085\n",
      "Loader: valid. Accuracy: 0.8879\n",
      "Epoch: 12\n",
      "Loader: train. Accuracy: 0.9092666666666667\n",
      "Loader: valid. Accuracy: 0.8893\n",
      "Epoch: 13\n",
      "Loader: train. Accuracy: 0.9117833333333333\n",
      "Loader: valid. Accuracy: 0.8909\n",
      "Epoch: 14\n",
      "Loader: train. Accuracy: 0.91305\n",
      "Loader: valid. Accuracy: 0.891\n",
      "Epoch: 15\n",
      "Loader: train. Accuracy: 0.9130166666666667\n",
      "Loader: valid. Accuracy: 0.8916\n"
     ]
    }
   ],
   "source": [
    "from tqdm import tqdm_notebook\n",
    "from torch.optim import lr_scheduler\n",
    "\n",
    "\n",
    "scheduler = lr_scheduler.StepLR(optimizer, step_size=7, gamma=0.1)\n",
    "\n",
    "max_epochs = 15\n",
    "\n",
    "accuracy = {\"train\": [], \"valid\": []}\n",
    "loss_train_val = {\"train\": [], \"valid\": []}\n",
    "model = model.to(device)\n",
    "for epoch in tqdm_notebook(range(max_epochs)):\n",
    "    scheduler.step()\n",
    "    for k, dataloader in loaders.items():\n",
    "        epoch_correct = 0\n",
    "        epoch_all = 0\n",
    "        loss_all = 0\n",
    "        num_batch = 0\n",
    "        for x_batch, y_batch in dataloader:\n",
    "            num_batch += 1\n",
    "            if k == \"train\":\n",
    "                 model.train()\n",
    "                 optimizer.zero_grad()\n",
    "                 outp = model.forward(x_batch.to(device))              \n",
    "                 \n",
    "            else:\n",
    "                 model.eval()\n",
    "                 with torch.no_grad():\n",
    "                    outp = model.forward(x_batch.to(device))\n",
    "            preds = outp.argmax(-1)\n",
    "            correct = (preds.flatten() == y_batch.to(device)).type(torch.float32).sum()\n",
    "            all =  y_batch.size(0)\n",
    "            epoch_correct += correct.item()\n",
    "            epoch_all += all\n",
    "            loss = loss_func(outp, y_batch.to(device))\n",
    "            loss_all += loss\n",
    "\n",
    "            if k == \"train\":\n",
    "                loss.backward()\n",
    "                optimizer.step()\n",
    "        if k == \"train\":\n",
    "            print(f\"Epoch: {epoch+1}\")\n",
    "        print(f\"Loader: {k}. Accuracy: {epoch_correct/epoch_all}\")\n",
    "        accuracy[k].append(epoch_correct/epoch_all)\n",
    "        loss_train_val[k].append(loss_all/num_batch)"
   ]
  },
  {
   "cell_type": "markdown",
   "metadata": {
    "id": "L7ISqkjmCPB1"
   },
   "source": [
    "### Task 2: Overfit it.\n",
    "Build a network that will overfit to this dataset. Demonstrate the overfitting in the appropriate way (e.g. plot loss and accurasy on train and test set w.r.t. network complexity).\n",
    "\n",
    "*Note:* you also might decrease the size of `train` dataset to enforce the overfitting and speed up the computations."
   ]
  },
  {
   "cell_type": "code",
   "execution_count": null,
   "metadata": {
    "id": "H12uAWiGBwJx"
   },
   "outputs": [],
   "source": [
    "class OverfittingNeuralNetwork(nn.Module):\n",
    "    def __init__(self, input_shape=28*28, num_classes=10, input_channels=1):\n",
    "        super().__init__()\n",
    "        self.model = nn.Sequential(\n",
    "            nn.Flatten(), # This layer converts image into a vector to use Linear layers afterwards\n",
    "            # Your network structure comes here\n",
    "            nn.Linear(input_shape, 256),          \n",
    "            nn.LeakyReLU(),\n",
    "            nn.Linear(256, 128),\n",
    "            nn.LeakyReLU(),\n",
    "            nn.Linear(128, 128),           \n",
    "            nn.LeakyReLU(),\n",
    "            nn.Linear(128, num_classes)\n",
    "        )\n",
    "        \n",
    "    def forward(self, inp):       \n",
    "        out = self.model(inp)\n",
    "        return out"
   ]
  },
  {
   "cell_type": "code",
   "execution_count": null,
   "metadata": {
    "colab": {
     "base_uri": "https://localhost:8080/"
    },
    "id": "LCpZoybq-b5l",
    "outputId": "94f0db49-3748-445a-c7a9-a292f0f89b16"
   },
   "outputs": [
    {
     "name": "stdout",
     "output_type": "stream",
     "text": [
      "----------------------------------------------------------------\n",
      "        Layer (type)               Output Shape         Param #\n",
      "================================================================\n",
      "           Flatten-1                 [128, 784]               0\n",
      "            Linear-2                 [128, 256]         200,960\n",
      "         LeakyReLU-3                 [128, 256]               0\n",
      "            Linear-4                 [128, 128]          32,896\n",
      "         LeakyReLU-5                 [128, 128]               0\n",
      "            Linear-6                 [128, 128]          16,512\n",
      "         LeakyReLU-7                 [128, 128]               0\n",
      "            Linear-8                  [128, 10]           1,290\n",
      "================================================================\n",
      "Total params: 251,658\n",
      "Trainable params: 251,658\n",
      "Non-trainable params: 0\n",
      "----------------------------------------------------------------\n",
      "Input size (MB): 0.38\n",
      "Forward/backward pass size (MB): 1.78\n",
      "Params size (MB): 0.96\n",
      "Estimated Total Size (MB): 3.12\n",
      "----------------------------------------------------------------\n"
     ]
    }
   ],
   "source": [
    "from torchsummary import summary\n",
    "\n",
    "model = OverfittingNeuralNetwork().to(device)\n",
    "optimizer = optim.AdamW(model.parameters(), lr=5e-3)\n",
    "loss_func = nn.CrossEntropyLoss()\n",
    "\n",
    "summary(model, (28*28,), batch_size=128)"
   ]
  },
  {
   "cell_type": "code",
   "execution_count": null,
   "metadata": {
    "colab": {
     "base_uri": "https://localhost:8080/",
     "height": 937,
     "referenced_widgets": [
      "5403baed20bf4668b74c464ef4b2b191",
      "bb1d32ed67654aab9a5744af843a5910",
      "9ebefce065f1434e80e3caa41d66642c",
      "86776049c74c4f90b1f50585f935caf9",
      "80471912f0b7429b97a2a8a2086678f0",
      "db58f03439894605889b49ccd2130036",
      "42d44c23cf454e7fbf531e4e4db74c8b",
      "78227e1915ea4fd28bd1484abba0cbf7",
      "0b85314e04e84b7896d6733534265c83",
      "fe52c8df0889424c8759fec6c9ed5929",
      "e791c851450546f383671edf2b0e3fbb"
     ]
    },
    "id": "azrOJRSQNgiN",
    "outputId": "3d935671-8797-412f-e0ea-e9dedcfa6d3e"
   },
   "outputs": [
    {
     "name": "stderr",
     "output_type": "stream",
     "text": [
      "/usr/local/lib/python3.7/dist-packages/ipykernel_launcher.py:12: TqdmDeprecationWarning: This function will be removed in tqdm==5.0.0\n",
      "Please use `tqdm.notebook.tqdm` instead of `tqdm.tqdm_notebook`\n",
      "  if sys.path[0] == '':\n"
     ]
    },
    {
     "data": {
      "application/vnd.jupyter.widget-view+json": {
       "model_id": "5403baed20bf4668b74c464ef4b2b191",
       "version_major": 2,
       "version_minor": 0
      },
      "text/plain": [
       "  0%|          | 0/15 [00:00<?, ?it/s]"
      ]
     },
     "metadata": {},
     "output_type": "display_data"
    },
    {
     "name": "stderr",
     "output_type": "stream",
     "text": [
      "/usr/local/lib/python3.7/dist-packages/torch/optim/lr_scheduler.py:134: UserWarning: Detected call of `lr_scheduler.step()` before `optimizer.step()`. In PyTorch 1.1.0 and later, you should call them in the opposite order: `optimizer.step()` before `lr_scheduler.step()`.  Failure to do this will result in PyTorch skipping the first value of the learning rate schedule. See more details at https://pytorch.org/docs/stable/optim.html#how-to-adjust-learning-rate\n",
      "  \"https://pytorch.org/docs/stable/optim.html#how-to-adjust-learning-rate\", UserWarning)\n"
     ]
    },
    {
     "name": "stdout",
     "output_type": "stream",
     "text": [
      "Epoch: 1\n",
      "Loader: train. Accuracy: 0.8047833333333333\n",
      "Loader: valid. Accuracy: 0.8457\n",
      "Epoch: 2\n",
      "Loader: train. Accuracy: 0.8605333333333334\n",
      "Loader: valid. Accuracy: 0.8623\n",
      "Epoch: 3\n",
      "Loader: train. Accuracy: 0.8713\n",
      "Loader: valid. Accuracy: 0.8594\n",
      "Epoch: 4\n",
      "Loader: train. Accuracy: 0.87875\n",
      "Loader: valid. Accuracy: 0.8706\n",
      "Epoch: 5\n",
      "Loader: train. Accuracy: 0.8841666666666667\n",
      "Loader: valid. Accuracy: 0.8682\n",
      "Epoch: 6\n",
      "Loader: train. Accuracy: 0.8881666666666667\n",
      "Loader: valid. Accuracy: 0.871\n",
      "Epoch: 7\n",
      "Loader: train. Accuracy: 0.90885\n",
      "Loader: valid. Accuracy: 0.8858\n",
      "Epoch: 8\n",
      "Loader: train. Accuracy: 0.9114166666666667\n",
      "Loader: valid. Accuracy: 0.8872\n",
      "Epoch: 9\n",
      "Loader: train. Accuracy: 0.9138166666666667\n",
      "Loader: valid. Accuracy: 0.888\n",
      "Epoch: 10\n",
      "Loader: train. Accuracy: 0.9159333333333334\n",
      "Loader: valid. Accuracy: 0.8891\n",
      "Epoch: 11\n",
      "Loader: train. Accuracy: 0.9182166666666667\n",
      "Loader: valid. Accuracy: 0.8905\n",
      "Epoch: 12\n",
      "Loader: train. Accuracy: 0.91965\n",
      "Loader: valid. Accuracy: 0.8878\n",
      "Epoch: 13\n",
      "Loader: train. Accuracy: 0.92155\n",
      "Loader: valid. Accuracy: 0.8919\n",
      "Epoch: 14\n",
      "Loader: train. Accuracy: 0.926\n",
      "Loader: valid. Accuracy: 0.8913\n",
      "Epoch: 15\n",
      "Loader: train. Accuracy: 0.92675\n",
      "Loader: valid. Accuracy: 0.8906\n"
     ]
    }
   ],
   "source": [
    "from tqdm import tqdm_notebook\n",
    "from torch.optim import lr_scheduler\n",
    "\n",
    "scheduler = lr_scheduler.StepLR(optimizer, step_size=7, gamma=0.1)\n",
    "\n",
    "max_epochs = 15\n",
    "\n",
    "accuracy = {\"train\": [], \"valid\": []}\n",
    "loss_train_val = {\"train\": [], \"valid\": []}\n",
    "model = model.to(device)\n",
    "for epoch in tqdm_notebook(range(max_epochs)):\n",
    "    scheduler.step()\n",
    "    for k, dataloader in loaders.items():\n",
    "        epoch_correct = 0\n",
    "        epoch_all = 0\n",
    "        loss_all = 0\n",
    "        num_batch = 0\n",
    "        for x_batch, y_batch in dataloader:\n",
    "            num_batch += 1\n",
    "            if k == \"train\": \n",
    "                 model.train()\n",
    "                 optimizer.zero_grad()\n",
    "                 outp = model.forward(x_batch.to(device))              \n",
    "                 \n",
    "            else:\n",
    "                 model.eval()\n",
    "                 with torch.no_grad():\n",
    "                    outp = model.forward(x_batch.to(device))\n",
    "\n",
    "            preds = outp.argmax(-1)\n",
    "            correct = (preds.flatten() == y_batch.to(device)).type(torch.float32).sum()\n",
    "            all =  y_batch.size(0)\n",
    "            epoch_correct += correct.item()\n",
    "            epoch_all += all\n",
    "\n",
    "            loss = loss_func(outp, y_batch.to(device))\n",
    "            loss_all += loss\n",
    "\n",
    "            if k == \"train\":\n",
    "                loss.backward()\n",
    "                optimizer.step()\n",
    "        if k == \"train\":\n",
    "            print(f\"Epoch: {epoch+1}\")\n",
    "        print(f\"Loader: {k}. Accuracy: {epoch_correct/epoch_all}\")\n",
    "        accuracy[k].append(epoch_correct/epoch_all)\n",
    "        loss_train_val[k].append(loss_all/num_batch)"
   ]
  },
  {
   "cell_type": "code",
   "execution_count": null,
   "metadata": {
    "colab": {
     "base_uri": "https://localhost:8080/",
     "height": 544
    },
    "id": "ppdWQc7EFwTy",
    "outputId": "2470e9c7-2a2d-43f0-be4d-6d3fc7ba38e6"
   },
   "outputs": [
    {
     "data": {
      "image/png": "[encoded data removed]",
      "text/plain": [
       "<Figure size 1080x648 with 1 Axes>"
      ]
     },
     "metadata": {
      "needs_background": "light"
     },
     "output_type": "display_data"
    }
   ],
   "source": [
    "# График функции потерь для модели в зависимости от числа эпох\n",
    "plt.figure(figsize=(15, 9))\n",
    "plt.plot(loss_train_val['train'], 'r-', label=\"train_loss\")\n",
    "plt.plot(loss_train_val['valid'], 'g-', label=\"val_loss\")\n",
    "plt.plot(loss_train_val['train'], 'ro')\n",
    "plt.plot(loss_train_val['valid'], 'go')\n",
    "plt.legend(loc='best', title='Data type:')\n",
    "plt.xlabel(\"epochs\")\n",
    "plt.ylabel(\"loss\")\n",
    "plt.title(\"График зависимости функции потери от номера эпохи\")\n",
    "plt.grid(color='0.8')\n",
    "plt.show()"
   ]
  },
  {
   "cell_type": "code",
   "execution_count": null,
   "metadata": {
    "colab": {
     "base_uri": "https://localhost:8080/",
     "height": 544
    },
    "id": "8fOHRxDID1jL",
    "outputId": "ba763286-a2dc-4e74-b911-188b3eafdf29"
   },
   "outputs": [
    {
     "data": {
      "image/png": "[encoded data removed]",
      "text/plain": [
       "<Figure size 1080x648 with 1 Axes>"
      ]
     },
     "metadata": {
      "needs_background": "light"
     },
     "output_type": "display_data"
    }
   ],
   "source": [
    "# График точности для модели в зависимости от числа эпох\n",
    "plt.figure(figsize=(15, 9))\n",
    "plt.plot(accuracy['train'], 'r-', label=\"train_loss\")\n",
    "plt.plot(accuracy['valid'], 'g-', label=\"val_loss\")\n",
    "plt.plot(accuracy['train'], 'ro')\n",
    "plt.plot(accuracy['valid'], 'go')\n",
    "plt.legend(loc='best', title='Data type:')\n",
    "plt.xlabel(\"epochs\")\n",
    "plt.ylabel(\"loss\")\n",
    "plt.title(\"График зависимости 'точности'(accuracy) от номера эпохи\")\n",
    "plt.grid(color='0.8')\n",
    "plt.show()"
   ]
  },
  {
   "cell_type": "markdown",
   "metadata": {
    "id": "aS5B3TT_-b5n"
   },
   "source": [
    "### Task 3: Fix it.\n",
    "Fix the overfitted network from the previous step (at least partially) by using regularization techniques (Dropout/Batchnorm/...) and demonstrate the results. "
   ]
  },
  {
   "cell_type": "code",
   "execution_count": null,
   "metadata": {
    "id": "qwFx2JEhNLN2"
   },
   "outputs": [],
   "source": [
    "class FixedNeuralNetwork(nn.Module):\n",
    "    def __init__(self, input_shape=28*28, num_classes=10, input_channels=1):\n",
    "        super().__init__()\n",
    "        self.model = nn.Sequential(\n",
    "            nn.Flatten(), # This layer converts image into a vector to use Linear layers afterwards\n",
    "            # Your network structure comes here\n",
    "            nn.Linear(input_shape, 256),\n",
    "            nn.BatchNorm1d(256),\n",
    "            nn.Dropout(p = 0.4),            \n",
    "            nn.LeakyReLU(),\n",
    "            nn.Linear(256, 128),\n",
    "            nn.BatchNorm1d(128),\n",
    "            nn.Dropout(p = 0.4),\n",
    "            nn.LeakyReLU(),\n",
    "            nn.Linear(128, 128),\n",
    "            nn.BatchNorm1d(128),\n",
    "            nn.Dropout(p = 0.4),            \n",
    "            nn.LeakyReLU(),\n",
    "            nn.Linear(128, num_classes)\n",
    "        )\n",
    "        \n",
    "    def forward(self, inp):       \n",
    "        out = self.model(inp)\n",
    "        return out"
   ]
  },
  {
   "cell_type": "code",
   "execution_count": null,
   "metadata": {
    "colab": {
     "base_uri": "https://localhost:8080/"
    },
    "id": "gixNPdhENLSy",
    "outputId": "50c180f9-b3d7-49c1-968f-3750af6478a8"
   },
   "outputs": [
    {
     "name": "stdout",
     "output_type": "stream",
     "text": [
      "----------------------------------------------------------------\n",
      "        Layer (type)               Output Shape         Param #\n",
      "================================================================\n",
      "           Flatten-1                 [128, 784]               0\n",
      "            Linear-2                 [128, 256]         200,960\n",
      "       BatchNorm1d-3                 [128, 256]             512\n",
      "           Dropout-4                 [128, 256]               0\n",
      "         LeakyReLU-5                 [128, 256]               0\n",
      "            Linear-6                 [128, 128]          32,896\n",
      "       BatchNorm1d-7                 [128, 128]             256\n",
      "           Dropout-8                 [128, 128]               0\n",
      "         LeakyReLU-9                 [128, 128]               0\n",
      "           Linear-10                 [128, 128]          16,512\n",
      "      BatchNorm1d-11                 [128, 128]             256\n",
      "          Dropout-12                 [128, 128]               0\n",
      "        LeakyReLU-13                 [128, 128]               0\n",
      "           Linear-14                  [128, 10]           1,290\n",
      "================================================================\n",
      "Total params: 252,682\n",
      "Trainable params: 252,682\n",
      "Non-trainable params: 0\n",
      "----------------------------------------------------------------\n",
      "Input size (MB): 0.38\n",
      "Forward/backward pass size (MB): 2.78\n",
      "Params size (MB): 0.96\n",
      "Estimated Total Size (MB): 4.12\n",
      "----------------------------------------------------------------\n"
     ]
    }
   ],
   "source": [
    "from torchsummary import summary\n",
    "\n",
    "model = FixedNeuralNetwork().to(device)\n",
    "optimizer = optim.AdamW(model.parameters(), lr=5e-3)\n",
    "loss_func = nn.CrossEntropyLoss()\n",
    "\n",
    "summary(model, (28*28,), batch_size=128)"
   ]
  },
  {
   "cell_type": "code",
   "execution_count": null,
   "metadata": {
    "colab": {
     "base_uri": "https://localhost:8080/",
     "height": 937,
     "referenced_widgets": [
      "e17ea2bf1d36486abeac8f523bbd96b9",
      "fe1c02860de34e00b6e984f142d0b12e",
      "fe7cd7ba5b4045f3b2ff5961bbb3c0a5",
      "9907d2fe7e4540b38fdc25c9d5603b93",
      "519055accdd648febb1d92707c7986ac",
      "ac0a9ad93c194c52ac6cf5ccafeeab3a",
      "61f4471e10cf4350bf57900bff27ab22",
      "c4e3dc33703343049fc444967ec9064f",
      "0c0712f4a89b41dfa2b735252a6b31be",
      "e889073b12ed43e0bef92dd3bbb1a998",
      "3667a398dd404e0792f6e845e07fa4d0"
     ]
    },
    "id": "P5i9D6s6OJow",
    "outputId": "c01bf9b5-4af1-4fbf-9353-7ab5c0803993"
   },
   "outputs": [
    {
     "name": "stderr",
     "output_type": "stream",
     "text": [
      "/usr/local/lib/python3.7/dist-packages/ipykernel_launcher.py:12: TqdmDeprecationWarning: This function will be removed in tqdm==5.0.0\n",
      "Please use `tqdm.notebook.tqdm` instead of `tqdm.tqdm_notebook`\n",
      "  if sys.path[0] == '':\n"
     ]
    },
    {
     "data": {
      "application/vnd.jupyter.widget-view+json": {
       "model_id": "e17ea2bf1d36486abeac8f523bbd96b9",
       "version_major": 2,
       "version_minor": 0
      },
      "text/plain": [
       "  0%|          | 0/15 [00:00<?, ?it/s]"
      ]
     },
     "metadata": {},
     "output_type": "display_data"
    },
    {
     "name": "stderr",
     "output_type": "stream",
     "text": [
      "/usr/local/lib/python3.7/dist-packages/torch/optim/lr_scheduler.py:134: UserWarning: Detected call of `lr_scheduler.step()` before `optimizer.step()`. In PyTorch 1.1.0 and later, you should call them in the opposite order: `optimizer.step()` before `lr_scheduler.step()`.  Failure to do this will result in PyTorch skipping the first value of the learning rate schedule. See more details at https://pytorch.org/docs/stable/optim.html#how-to-adjust-learning-rate\n",
      "  \"https://pytorch.org/docs/stable/optim.html#how-to-adjust-learning-rate\", UserWarning)\n"
     ]
    },
    {
     "name": "stdout",
     "output_type": "stream",
     "text": [
      "Epoch: 1\n",
      "Loader: train. Accuracy: 0.7869333333333334\n",
      "Loader: valid. Accuracy: 0.8397\n",
      "Epoch: 2\n",
      "Loader: train. Accuracy: 0.8374\n",
      "Loader: valid. Accuracy: 0.8538\n",
      "Epoch: 3\n",
      "Loader: train. Accuracy: 0.8484333333333334\n",
      "Loader: valid. Accuracy: 0.8629\n",
      "Epoch: 4\n",
      "Loader: train. Accuracy: 0.8580833333333333\n",
      "Loader: valid. Accuracy: 0.8645\n",
      "Epoch: 5\n",
      "Loader: train. Accuracy: 0.8638666666666667\n",
      "Loader: valid. Accuracy: 0.8719\n",
      "Epoch: 6\n",
      "Loader: train. Accuracy: 0.8680833333333333\n",
      "Loader: valid. Accuracy: 0.8711\n",
      "Epoch: 7\n",
      "Loader: train. Accuracy: 0.88185\n",
      "Loader: valid. Accuracy: 0.882\n",
      "Epoch: 8\n",
      "Loader: train. Accuracy: 0.8884\n",
      "Loader: valid. Accuracy: 0.8846\n",
      "Epoch: 9\n",
      "Loader: train. Accuracy: 0.8907666666666667\n",
      "Loader: valid. Accuracy: 0.8851\n",
      "Epoch: 10\n",
      "Loader: train. Accuracy: 0.8927333333333334\n",
      "Loader: valid. Accuracy: 0.8868\n",
      "Epoch: 11\n",
      "Loader: train. Accuracy: 0.8938\n",
      "Loader: valid. Accuracy: 0.8876\n",
      "Epoch: 12\n",
      "Loader: train. Accuracy: 0.8958166666666667\n",
      "Loader: valid. Accuracy: 0.888\n",
      "Epoch: 13\n",
      "Loader: train. Accuracy: 0.8976666666666666\n",
      "Loader: valid. Accuracy: 0.8888\n",
      "Epoch: 14\n",
      "Loader: train. Accuracy: 0.8991666666666667\n",
      "Loader: valid. Accuracy: 0.8889\n",
      "Epoch: 15\n",
      "Loader: train. Accuracy: 0.90005\n",
      "Loader: valid. Accuracy: 0.8896\n"
     ]
    }
   ],
   "source": [
    "from tqdm import tqdm_notebook\n",
    "from torch.optim import lr_scheduler\n",
    "\n",
    "scheduler = lr_scheduler.StepLR(optimizer, step_size=7, gamma=0.1)\n",
    "max_epochs = 15\n",
    "\n",
    "accuracy = {\"train\": [], \"valid\": []}\n",
    "loss_train_val = {\"train\": [], \"valid\": []}\n",
    "model = model.to(device)\n",
    "for epoch in tqdm_notebook(range(max_epochs)):\n",
    "    scheduler.step()\n",
    "    for k, dataloader in loaders.items():\n",
    "        epoch_correct = 0\n",
    "        epoch_all = 0\n",
    "        loss_all = 0\n",
    "        num_batch = 0\n",
    "        for x_batch, y_batch in dataloader:\n",
    "            num_batch += 1\n",
    "            if k == \"train\":\n",
    "                 model.train()\n",
    "                 optimizer.zero_grad()\n",
    "                 outp = model.forward(x_batch.to(device))              \n",
    "                 \n",
    "            else:\n",
    "                 model.eval()\n",
    "                 with torch.no_grad():\n",
    "                    outp = model.forward(x_batch.to(device))\n",
    "\n",
    "            preds = outp.argmax(-1)\n",
    "            correct = (preds.flatten() == y_batch.to(device)).type(torch.float32).sum()\n",
    "            all =  y_batch.size(0)\n",
    "            epoch_correct += correct.item()\n",
    "            epoch_all += all\n",
    "\n",
    "            loss = loss_func(outp, y_batch.to(device))\n",
    "            loss_all += loss\n",
    "\n",
    "            if k == \"train\":\n",
    "                loss.backward()\n",
    "                optimizer.step()\n",
    "        if k == \"train\":\n",
    "            print(f\"Epoch: {epoch+1}\")\n",
    "        print(f\"Loader: {k}. Accuracy: {epoch_correct/epoch_all}\")\n",
    "        accuracy[k].append(epoch_correct/epoch_all)\n",
    "        loss_train_val[k].append(loss_all/num_batch)"
   ]
  },
  {
   "cell_type": "code",
   "execution_count": null,
   "metadata": {
    "colab": {
     "base_uri": "https://localhost:8080/",
     "height": 544
    },
    "id": "_BXTgjHkOLSa",
    "outputId": "51852d07-78d0-46f7-d3c9-fdb5b84fe0e1"
   },
   "outputs": [
    {
     "data": {
      "image/png": "[encoded data removed]",
      "text/plain": [
       "<Figure size 1080x648 with 1 Axes>"
      ]
     },
     "metadata": {
      "needs_background": "light"
     },
     "output_type": "display_data"
    }
   ],
   "source": [
    "# График функции потерь для модели в зависимости от числа эпох\n",
    "plt.figure(figsize=(15, 9))\n",
    "plt.plot(loss_train_val['train'], 'r-', label=\"train_loss\")\n",
    "plt.plot(loss_train_val['valid'], 'g-', label=\"val_loss\")\n",
    "plt.plot(loss_train_val['train'], 'ro')\n",
    "plt.plot(loss_train_val['valid'], 'go')\n",
    "plt.legend(loc='best', title='Data type:')\n",
    "plt.xlabel(\"epochs\")\n",
    "plt.ylabel(\"loss\")\n",
    "plt.title(\"График зависимости функции потери от номера эпохи\")\n",
    "plt.grid(color='0.8')\n",
    "plt.show()"
   ]
  },
  {
   "cell_type": "code",
   "execution_count": null,
   "metadata": {
    "colab": {
     "base_uri": "https://localhost:8080/",
     "height": 544
    },
    "id": "4WT5ZhYSOLUl",
    "outputId": "fcae1471-b8e9-4069-e2c4-944fa163aeff"
   },
   "outputs": [
    {
     "data": {
      "image/png": "[encoded data removed]",
      "text/plain": [
       "<Figure size 1080x648 with 1 Axes>"
      ]
     },
     "metadata": {
      "needs_background": "light"
     },
     "output_type": "display_data"
    }
   ],
   "source": [
    "# График точности для модели в зависимости от числа эпох\n",
    "plt.figure(figsize=(15, 9))\n",
    "plt.plot(accuracy['train'], 'r-', label=\"train_loss\")\n",
    "plt.plot(accuracy['valid'], 'g-', label=\"val_loss\")\n",
    "plt.plot(accuracy['train'], 'ro')\n",
    "plt.plot(accuracy['valid'], 'go')\n",
    "plt.legend(loc='best', title='Data type:')\n",
    "plt.xlabel(\"epochs\")\n",
    "plt.ylabel(\"loss\")\n",
    "plt.title(\"График зависимости 'точности'(accuracy) от номера эпохи\")\n",
    "plt.grid(color='0.8')\n",
    "plt.show()"
   ]
  },
  {
   "cell_type": "markdown",
   "metadata": {
    "id": "dMui_uLJ7G0d"
   },
   "source": [
    "### Conclusions:\n",
    "_Write down small report with your conclusions and your ideas._"
   ]
  },
  {
   "cell_type": "markdown",
   "metadata": {
    "id": "Trlu7xThMdBu"
   },
   "source": [
    "### Выводы:\n",
    "1. Была реализована модель с 1 входным, 2 скрытыми и одним выходным полносвязанными слоями. Достигнутое качество равно 0.8916, что больше чем 0.885. Следовательно 1 пункт выполнен. \n",
    "2. Из предыдущей модели были убраны Dropout и BatchNorm1d. Из графика зависимости функции потерь от количества эпох видим, что начиная со 2 эпохи начинается переобучение, с 7 эпохи значение функции потерь выходит в плато, на val_loss. На обучающей выборке значении функции потерь продолжает уменьшаться. Данное поведение графиков явно сигнализирует о переобучении. Аналогичную ситуацию можно наблюдать на графике зависимости Accuracy от количества эпох.\n",
    "3. Использована аналогичная архитектура нейронной сети что и в пункте 2 с добавлением Dropout и BatchNorm1d для борьбы с переобучением. Из графика зависимости функции потерь от количества эпох видим, что начиная только с 7 эпохи начинается переобучение, но в плато не выходит, на val_loss. Аналогичную ситуацию можно наблюдать на графике зависимости Accuracy от количества эпох. "
   ]
  }
 ],
 "metadata": {
  "accelerator": "GPU",
  "colab": {
   "collapsed_sections": [],
   "name": "Копия блокнота \"Overfit it.ipynb\"",
   "provenance": [],
   "toc_visible": true
  },
  "kernelspec": {
   "display_name": "Python 3",
   "language": "python",
   "name": "python3"
  },
  "language_info": {
   "codemirror_mode": {
    "name": "ipython",
    "version": 3
   },
   "file_extension": ".py",
   "mimetype": "text/x-python",
   "name": "python",
   "nbconvert_exporter": "python",
   "pygments_lexer": "ipython3",
   "version": "3.8.10"
  },
  "widgets": {
   "application/vnd.jupyter.widget-state+json": {
    "0b85314e04e84b7896d6733534265c83": {
     "model_module": "@jupyter-widgets/base",
     "model_module_version": "1.2.0",
     "model_name": "LayoutModel",
     "state": {
      "_model_module": "@jupyter-widgets/base",
      "_model_module_version": "1.2.0",
      "_model_name": "LayoutModel",
      "_view_count": null,
      "_view_module": "@jupyter-widgets/base",
      "_view_module_version": "1.2.0",
      "_view_name": "LayoutView",
      "align_content": null,
      "align_items": null,
      "align_self": null,
      "border": null,
      "bottom": null,
      "display": null,
      "flex": null,
      "flex_flow": null,
      "grid_area": null,
      "grid_auto_columns": null,
      "grid_auto_flow": null,
      "grid_auto_rows": null,
      "grid_column": null,
      "grid_gap": null,
      "grid_row": null,
      "grid_template_areas": null,
      "grid_template_columns": null,
      "grid_template_rows": null,
      "height": null,
      "justify_content": null,
      "justify_items": null,
      "left": null,
      "margin": null,
      "max_height": null,
      "max_width": null,
      "min_height": null,
      "min_width": null,
      "object_fit": null,
      "object_position": null,
      "order": null,
      "overflow": null,
      "overflow_x": null,
      "overflow_y": null,
      "padding": null,
      "right": null,
      "top": null,
      "visibility": null,
      "width": null
     }
    },
    "0c0712f4a89b41dfa2b735252a6b31be": {
     "model_module": "@jupyter-widgets/base",
     "model_module_version": "1.2.0",
     "model_name": "LayoutModel",
     "state": {
      "_model_module": "@jupyter-widgets/base",
      "_model_module_version": "1.2.0",
      "_model_name": "LayoutModel",
      "_view_count": null,
      "_view_module": "@jupyter-widgets/base",
      "_view_module_version": "1.2.0",
      "_view_name": "LayoutView",
      "align_content": null,
      "align_items": null,
      "align_self": null,
      "border": null,
      "bottom": null,
      "display": null,
      "flex": null,
      "flex_flow": null,
      "grid_area": null,
      "grid_auto_columns": null,
      "grid_auto_flow": null,
      "grid_auto_rows": null,
      "grid_column": null,
      "grid_gap": null,
      "grid_row": null,
      "grid_template_areas": null,
      "grid_template_columns": null,
      "grid_template_rows": null,
      "height": null,
      "justify_content": null,
      "justify_items": null,
      "left": null,
      "margin": null,
      "max_height": null,
      "max_width": null,
      "min_height": null,
      "min_width": null,
      "object_fit": null,
      "object_position": null,
      "order": null,
      "overflow": null,
      "overflow_x": null,
      "overflow_y": null,
      "padding": null,
      "right": null,
      "top": null,
      "visibility": null,
      "width": null
     }
    },
    "23f1fd4bd2224f7c9f8ebd4e67718ab8": {
     "model_module": "@jupyter-widgets/base",
     "model_module_version": "1.2.0",
     "model_name": "LayoutModel",
     "state": {
      "_model_module": "@jupyter-widgets/base",
      "_model_module_version": "1.2.0",
      "_model_name": "LayoutModel",
      "_view_count": null,
      "_view_module": "@jupyter-widgets/base",
      "_view_module_version": "1.2.0",
      "_view_name": "LayoutView",
      "align_content": null,
      "align_items": null,
      "align_self": null,
      "border": null,
      "bottom": null,
      "display": null,
      "flex": null,
      "flex_flow": null,
      "grid_area": null,
      "grid_auto_columns": null,
      "grid_auto_flow": null,
      "grid_auto_rows": null,
      "grid_column": null,
      "grid_gap": null,
      "grid_row": null,
      "grid_template_areas": null,
      "grid_template_columns": null,
      "grid_template_rows": null,
      "height": null,
      "justify_content": null,
      "justify_items": null,
      "left": null,
      "margin": null,
      "max_height": null,
      "max_width": null,
      "min_height": null,
      "min_width": null,
      "object_fit": null,
      "object_position": null,
      "order": null,
      "overflow": null,
      "overflow_x": null,
      "overflow_y": null,
      "padding": null,
      "right": null,
      "top": null,
      "visibility": null,
      "width": null
     }
    },
    "2f6dfa5e098341c98505b2027726d7fe": {
     "model_module": "@jupyter-widgets/base",
     "model_module_version": "1.2.0",
     "model_name": "LayoutModel",
     "state": {
      "_model_module": "@jupyter-widgets/base",
      "_model_module_version": "1.2.0",
      "_model_name": "LayoutModel",
      "_view_count": null,
      "_view_module": "@jupyter-widgets/base",
      "_view_module_version": "1.2.0",
      "_view_name": "LayoutView",
      "align_content": null,
      "align_items": null,
      "align_self": null,
      "border": null,
      "bottom": null,
      "display": null,
      "flex": null,
      "flex_flow": null,
      "grid_area": null,
      "grid_auto_columns": null,
      "grid_auto_flow": null,
      "grid_auto_rows": null,
      "grid_column": null,
      "grid_gap": null,
      "grid_row": null,
      "grid_template_areas": null,
      "grid_template_columns": null,
      "grid_template_rows": null,
      "height": null,
      "justify_content": null,
      "justify_items": null,
      "left": null,
      "margin": null,
      "max_height": null,
      "max_width": null,
      "min_height": null,
      "min_width": null,
      "object_fit": null,
      "object_position": null,
      "order": null,
      "overflow": null,
      "overflow_x": null,
      "overflow_y": null,
      "padding": null,
      "right": null,
      "top": null,
      "visibility": null,
      "width": null
     }
    },
    "3667a398dd404e0792f6e845e07fa4d0": {
     "model_module": "@jupyter-widgets/base",
     "model_module_version": "1.2.0",
     "model_name": "LayoutModel",
     "state": {
      "_model_module": "@jupyter-widgets/base",
      "_model_module_version": "1.2.0",
      "_model_name": "LayoutModel",
      "_view_count": null,
      "_view_module": "@jupyter-widgets/base",
      "_view_module_version": "1.2.0",
      "_view_name": "LayoutView",
      "align_content": null,
      "align_items": null,
      "align_self": null,
      "border": null,
      "bottom": null,
      "display": null,
      "flex": null,
      "flex_flow": null,
      "grid_area": null,
      "grid_auto_columns": null,
      "grid_auto_flow": null,
      "grid_auto_rows": null,
      "grid_column": null,
      "grid_gap": null,
      "grid_row": null,
      "grid_template_areas": null,
      "grid_template_columns": null,
      "grid_template_rows": null,
      "height": null,
      "justify_content": null,
      "justify_items": null,
      "left": null,
      "margin": null,
      "max_height": null,
      "max_width": null,
      "min_height": null,
      "min_width": null,
      "object_fit": null,
      "object_position": null,
      "order": null,
      "overflow": null,
      "overflow_x": null,
      "overflow_y": null,
      "padding": null,
      "right": null,
      "top": null,
      "visibility": null,
      "width": null
     }
    },
    "37106fc706874eccaa707fa2b61ad153": {
     "model_module": "@jupyter-widgets/controls",
     "model_module_version": "1.5.0",
     "model_name": "HBoxModel",
     "state": {
      "_dom_classes": [],
      "_model_module": "@jupyter-widgets/controls",
      "_model_module_version": "1.5.0",
      "_model_name": "HBoxModel",
      "_view_count": null,
      "_view_module": "@jupyter-widgets/controls",
      "_view_module_version": "1.5.0",
      "_view_name": "HBoxView",
      "box_style": "",
      "children": [
       "IPY_MODEL_39212297051c43f5bdc995c68bb5c8d6",
       "IPY_MODEL_d3ba012556d04303a033ecccd35a36c9",
       "IPY_MODEL_bce185cb090946f3952aa82e2ec3d5df"
      ],
      "layout": "IPY_MODEL_23f1fd4bd2224f7c9f8ebd4e67718ab8"
     }
    },
    "39212297051c43f5bdc995c68bb5c8d6": {
     "model_module": "@jupyter-widgets/controls",
     "model_module_version": "1.5.0",
     "model_name": "HTMLModel",
     "state": {
      "_dom_classes": [],
      "_model_module": "@jupyter-widgets/controls",
      "_model_module_version": "1.5.0",
      "_model_name": "HTMLModel",
      "_view_count": null,
      "_view_module": "@jupyter-widgets/controls",
      "_view_module_version": "1.5.0",
      "_view_name": "HTMLView",
      "description": "",
      "description_tooltip": null,
      "layout": "IPY_MODEL_bf6d0f896d2841cab605b0eb77cc4a68",
      "placeholder": "​",
      "style": "IPY_MODEL_68e14fe006824932b9f4bab861655267",
      "value": "100%"
     }
    },
    "42d44c23cf454e7fbf531e4e4db74c8b": {
     "model_module": "@jupyter-widgets/base",
     "model_module_version": "1.2.0",
     "model_name": "LayoutModel",
     "state": {
      "_model_module": "@jupyter-widgets/base",
      "_model_module_version": "1.2.0",
      "_model_name": "LayoutModel",
      "_view_count": null,
      "_view_module": "@jupyter-widgets/base",
      "_view_module_version": "1.2.0",
      "_view_name": "LayoutView",
      "align_content": null,
      "align_items": null,
      "align_self": null,
      "border": null,
      "bottom": null,
      "display": null,
      "flex": null,
      "flex_flow": null,
      "grid_area": null,
      "grid_auto_columns": null,
      "grid_auto_flow": null,
      "grid_auto_rows": null,
      "grid_column": null,
      "grid_gap": null,
      "grid_row": null,
      "grid_template_areas": null,
      "grid_template_columns": null,
      "grid_template_rows": null,
      "height": null,
      "justify_content": null,
      "justify_items": null,
      "left": null,
      "margin": null,
      "max_height": null,
      "max_width": null,
      "min_height": null,
      "min_width": null,
      "object_fit": null,
      "object_position": null,
      "order": null,
      "overflow": null,
      "overflow_x": null,
      "overflow_y": null,
      "padding": null,
      "right": null,
      "top": null,
      "visibility": null,
      "width": null
     }
    },
    "519055accdd648febb1d92707c7986ac": {
     "model_module": "@jupyter-widgets/controls",
     "model_module_version": "1.5.0",
     "model_name": "HTMLModel",
     "state": {
      "_dom_classes": [],
      "_model_module": "@jupyter-widgets/controls",
      "_model_module_version": "1.5.0",
      "_model_name": "HTMLModel",
      "_view_count": null,
      "_view_module": "@jupyter-widgets/controls",
      "_view_module_version": "1.5.0",
      "_view_name": "HTMLView",
      "description": "",
      "description_tooltip": null,
      "layout": "IPY_MODEL_3667a398dd404e0792f6e845e07fa4d0",
      "placeholder": "​",
      "style": "IPY_MODEL_e889073b12ed43e0bef92dd3bbb1a998",
      "value": " 15/15 [02:44&lt;00:00, 10.98s/it]"
     }
    },
    "5403baed20bf4668b74c464ef4b2b191": {
     "model_module": "@jupyter-widgets/controls",
     "model_module_version": "1.5.0",
     "model_name": "HBoxModel",
     "state": {
      "_dom_classes": [],
      "_model_module": "@jupyter-widgets/controls",
      "_model_module_version": "1.5.0",
      "_model_name": "HBoxModel",
      "_view_count": null,
      "_view_module": "@jupyter-widgets/controls",
      "_view_module_version": "1.5.0",
      "_view_name": "HBoxView",
      "box_style": "",
      "children": [
       "IPY_MODEL_9ebefce065f1434e80e3caa41d66642c",
       "IPY_MODEL_86776049c74c4f90b1f50585f935caf9",
       "IPY_MODEL_80471912f0b7429b97a2a8a2086678f0"
      ],
      "layout": "IPY_MODEL_bb1d32ed67654aab9a5744af843a5910"
     }
    },
    "61f4471e10cf4350bf57900bff27ab22": {
     "model_module": "@jupyter-widgets/base",
     "model_module_version": "1.2.0",
     "model_name": "LayoutModel",
     "state": {
      "_model_module": "@jupyter-widgets/base",
      "_model_module_version": "1.2.0",
      "_model_name": "LayoutModel",
      "_view_count": null,
      "_view_module": "@jupyter-widgets/base",
      "_view_module_version": "1.2.0",
      "_view_name": "LayoutView",
      "align_content": null,
      "align_items": null,
      "align_self": null,
      "border": null,
      "bottom": null,
      "display": null,
      "flex": null,
      "flex_flow": null,
      "grid_area": null,
      "grid_auto_columns": null,
      "grid_auto_flow": null,
      "grid_auto_rows": null,
      "grid_column": null,
      "grid_gap": null,
      "grid_row": null,
      "grid_template_areas": null,
      "grid_template_columns": null,
      "grid_template_rows": null,
      "height": null,
      "justify_content": null,
      "justify_items": null,
      "left": null,
      "margin": null,
      "max_height": null,
      "max_width": null,
      "min_height": null,
      "min_width": null,
      "object_fit": null,
      "object_position": null,
      "order": null,
      "overflow": null,
      "overflow_x": null,
      "overflow_y": null,
      "padding": null,
      "right": null,
      "top": null,
      "visibility": null,
      "width": null
     }
    },
    "68e14fe006824932b9f4bab861655267": {
     "model_module": "@jupyter-widgets/controls",
     "model_module_version": "1.5.0",
     "model_name": "DescriptionStyleModel",
     "state": {
      "_model_module": "@jupyter-widgets/controls",
      "_model_module_version": "1.5.0",
      "_model_name": "DescriptionStyleModel",
      "_view_count": null,
      "_view_module": "@jupyter-widgets/base",
      "_view_module_version": "1.2.0",
      "_view_name": "StyleView",
      "description_width": ""
     }
    },
    "721d491b1752444c8172264f46e34e2a": {
     "model_module": "@jupyter-widgets/base",
     "model_module_version": "1.2.0",
     "model_name": "LayoutModel",
     "state": {
      "_model_module": "@jupyter-widgets/base",
      "_model_module_version": "1.2.0",
      "_model_name": "LayoutModel",
      "_view_count": null,
      "_view_module": "@jupyter-widgets/base",
      "_view_module_version": "1.2.0",
      "_view_name": "LayoutView",
      "align_content": null,
      "align_items": null,
      "align_self": null,
      "border": null,
      "bottom": null,
      "display": null,
      "flex": null,
      "flex_flow": null,
      "grid_area": null,
      "grid_auto_columns": null,
      "grid_auto_flow": null,
      "grid_auto_rows": null,
      "grid_column": null,
      "grid_gap": null,
      "grid_row": null,
      "grid_template_areas": null,
      "grid_template_columns": null,
      "grid_template_rows": null,
      "height": null,
      "justify_content": null,
      "justify_items": null,
      "left": null,
      "margin": null,
      "max_height": null,
      "max_width": null,
      "min_height": null,
      "min_width": null,
      "object_fit": null,
      "object_position": null,
      "order": null,
      "overflow": null,
      "overflow_x": null,
      "overflow_y": null,
      "padding": null,
      "right": null,
      "top": null,
      "visibility": null,
      "width": null
     }
    },
    "78227e1915ea4fd28bd1484abba0cbf7": {
     "model_module": "@jupyter-widgets/controls",
     "model_module_version": "1.5.0",
     "model_name": "ProgressStyleModel",
     "state": {
      "_model_module": "@jupyter-widgets/controls",
      "_model_module_version": "1.5.0",
      "_model_name": "ProgressStyleModel",
      "_view_count": null,
      "_view_module": "@jupyter-widgets/base",
      "_view_module_version": "1.2.0",
      "_view_name": "StyleView",
      "bar_color": null,
      "description_width": ""
     }
    },
    "80471912f0b7429b97a2a8a2086678f0": {
     "model_module": "@jupyter-widgets/controls",
     "model_module_version": "1.5.0",
     "model_name": "HTMLModel",
     "state": {
      "_dom_classes": [],
      "_model_module": "@jupyter-widgets/controls",
      "_model_module_version": "1.5.0",
      "_model_name": "HTMLModel",
      "_view_count": null,
      "_view_module": "@jupyter-widgets/controls",
      "_view_module_version": "1.5.0",
      "_view_name": "HTMLView",
      "description": "",
      "description_tooltip": null,
      "layout": "IPY_MODEL_e791c851450546f383671edf2b0e3fbb",
      "placeholder": "​",
      "style": "IPY_MODEL_fe52c8df0889424c8759fec6c9ed5929",
      "value": " 15/15 [02:32&lt;00:00, 10.17s/it]"
     }
    },
    "86776049c74c4f90b1f50585f935caf9": {
     "model_module": "@jupyter-widgets/controls",
     "model_module_version": "1.5.0",
     "model_name": "FloatProgressModel",
     "state": {
      "_dom_classes": [],
      "_model_module": "@jupyter-widgets/controls",
      "_model_module_version": "1.5.0",
      "_model_name": "FloatProgressModel",
      "_view_count": null,
      "_view_module": "@jupyter-widgets/controls",
      "_view_module_version": "1.5.0",
      "_view_name": "ProgressView",
      "bar_style": "success",
      "description": "",
      "description_tooltip": null,
      "layout": "IPY_MODEL_0b85314e04e84b7896d6733534265c83",
      "max": 15,
      "min": 0,
      "orientation": "horizontal",
      "style": "IPY_MODEL_78227e1915ea4fd28bd1484abba0cbf7",
      "value": 15
     }
    },
    "9907d2fe7e4540b38fdc25c9d5603b93": {
     "model_module": "@jupyter-widgets/controls",
     "model_module_version": "1.5.0",
     "model_name": "FloatProgressModel",
     "state": {
      "_dom_classes": [],
      "_model_module": "@jupyter-widgets/controls",
      "_model_module_version": "1.5.0",
      "_model_name": "FloatProgressModel",
      "_view_count": null,
      "_view_module": "@jupyter-widgets/controls",
      "_view_module_version": "1.5.0",
      "_view_name": "ProgressView",
      "bar_style": "success",
      "description": "",
      "description_tooltip": null,
      "layout": "IPY_MODEL_0c0712f4a89b41dfa2b735252a6b31be",
      "max": 15,
      "min": 0,
      "orientation": "horizontal",
      "style": "IPY_MODEL_c4e3dc33703343049fc444967ec9064f",
      "value": 15
     }
    },
    "9ebefce065f1434e80e3caa41d66642c": {
     "model_module": "@jupyter-widgets/controls",
     "model_module_version": "1.5.0",
     "model_name": "HTMLModel",
     "state": {
      "_dom_classes": [],
      "_model_module": "@jupyter-widgets/controls",
      "_model_module_version": "1.5.0",
      "_model_name": "HTMLModel",
      "_view_count": null,
      "_view_module": "@jupyter-widgets/controls",
      "_view_module_version": "1.5.0",
      "_view_name": "HTMLView",
      "description": "",
      "description_tooltip": null,
      "layout": "IPY_MODEL_42d44c23cf454e7fbf531e4e4db74c8b",
      "placeholder": "​",
      "style": "IPY_MODEL_db58f03439894605889b49ccd2130036",
      "value": "100%"
     }
    },
    "ac0a9ad93c194c52ac6cf5ccafeeab3a": {
     "model_module": "@jupyter-widgets/controls",
     "model_module_version": "1.5.0",
     "model_name": "DescriptionStyleModel",
     "state": {
      "_model_module": "@jupyter-widgets/controls",
      "_model_module_version": "1.5.0",
      "_model_name": "DescriptionStyleModel",
      "_view_count": null,
      "_view_module": "@jupyter-widgets/base",
      "_view_module_version": "1.2.0",
      "_view_name": "StyleView",
      "description_width": ""
     }
    },
    "bb1d32ed67654aab9a5744af843a5910": {
     "model_module": "@jupyter-widgets/base",
     "model_module_version": "1.2.0",
     "model_name": "LayoutModel",
     "state": {
      "_model_module": "@jupyter-widgets/base",
      "_model_module_version": "1.2.0",
      "_model_name": "LayoutModel",
      "_view_count": null,
      "_view_module": "@jupyter-widgets/base",
      "_view_module_version": "1.2.0",
      "_view_name": "LayoutView",
      "align_content": null,
      "align_items": null,
      "align_self": null,
      "border": null,
      "bottom": null,
      "display": null,
      "flex": null,
      "flex_flow": null,
      "grid_area": null,
      "grid_auto_columns": null,
      "grid_auto_flow": null,
      "grid_auto_rows": null,
      "grid_column": null,
      "grid_gap": null,
      "grid_row": null,
      "grid_template_areas": null,
      "grid_template_columns": null,
      "grid_template_rows": null,
      "height": null,
      "justify_content": null,
      "justify_items": null,
      "left": null,
      "margin": null,
      "max_height": null,
      "max_width": null,
      "min_height": null,
      "min_width": null,
      "object_fit": null,
      "object_position": null,
      "order": null,
      "overflow": null,
      "overflow_x": null,
      "overflow_y": null,
      "padding": null,
      "right": null,
      "top": null,
      "visibility": null,
      "width": null
     }
    },
    "bce185cb090946f3952aa82e2ec3d5df": {
     "model_module": "@jupyter-widgets/controls",
     "model_module_version": "1.5.0",
     "model_name": "HTMLModel",
     "state": {
      "_dom_classes": [],
      "_model_module": "@jupyter-widgets/controls",
      "_model_module_version": "1.5.0",
      "_model_name": "HTMLModel",
      "_view_count": null,
      "_view_module": "@jupyter-widgets/controls",
      "_view_module_version": "1.5.0",
      "_view_name": "HTMLView",
      "description": "",
      "description_tooltip": null,
      "layout": "IPY_MODEL_721d491b1752444c8172264f46e34e2a",
      "placeholder": "​",
      "style": "IPY_MODEL_fbafa686231346ca842edf53deea3ab8",
      "value": " 15/15 [02:38&lt;00:00, 10.55s/it]"
     }
    },
    "bf6d0f896d2841cab605b0eb77cc4a68": {
     "model_module": "@jupyter-widgets/base",
     "model_module_version": "1.2.0",
     "model_name": "LayoutModel",
     "state": {
      "_model_module": "@jupyter-widgets/base",
      "_model_module_version": "1.2.0",
      "_model_name": "LayoutModel",
      "_view_count": null,
      "_view_module": "@jupyter-widgets/base",
      "_view_module_version": "1.2.0",
      "_view_name": "LayoutView",
      "align_content": null,
      "align_items": null,
      "align_self": null,
      "border": null,
      "bottom": null,
      "display": null,
      "flex": null,
      "flex_flow": null,
      "grid_area": null,
      "grid_auto_columns": null,
      "grid_auto_flow": null,
      "grid_auto_rows": null,
      "grid_column": null,
      "grid_gap": null,
      "grid_row": null,
      "grid_template_areas": null,
      "grid_template_columns": null,
      "grid_template_rows": null,
      "height": null,
      "justify_content": null,
      "justify_items": null,
      "left": null,
      "margin": null,
      "max_height": null,
      "max_width": null,
      "min_height": null,
      "min_width": null,
      "object_fit": null,
      "object_position": null,
      "order": null,
      "overflow": null,
      "overflow_x": null,
      "overflow_y": null,
      "padding": null,
      "right": null,
      "top": null,
      "visibility": null,
      "width": null
     }
    },
    "c4e3dc33703343049fc444967ec9064f": {
     "model_module": "@jupyter-widgets/controls",
     "model_module_version": "1.5.0",
     "model_name": "ProgressStyleModel",
     "state": {
      "_model_module": "@jupyter-widgets/controls",
      "_model_module_version": "1.5.0",
      "_model_name": "ProgressStyleModel",
      "_view_count": null,
      "_view_module": "@jupyter-widgets/base",
      "_view_module_version": "1.2.0",
      "_view_name": "StyleView",
      "bar_color": null,
      "description_width": ""
     }
    },
    "d3ba012556d04303a033ecccd35a36c9": {
     "model_module": "@jupyter-widgets/controls",
     "model_module_version": "1.5.0",
     "model_name": "FloatProgressModel",
     "state": {
      "_dom_classes": [],
      "_model_module": "@jupyter-widgets/controls",
      "_model_module_version": "1.5.0",
      "_model_name": "FloatProgressModel",
      "_view_count": null,
      "_view_module": "@jupyter-widgets/controls",
      "_view_module_version": "1.5.0",
      "_view_name": "ProgressView",
      "bar_style": "success",
      "description": "",
      "description_tooltip": null,
      "layout": "IPY_MODEL_2f6dfa5e098341c98505b2027726d7fe",
      "max": 15,
      "min": 0,
      "orientation": "horizontal",
      "style": "IPY_MODEL_dbded1203e604b0fb2469d72c6959400",
      "value": 15
     }
    },
    "db58f03439894605889b49ccd2130036": {
     "model_module": "@jupyter-widgets/controls",
     "model_module_version": "1.5.0",
     "model_name": "DescriptionStyleModel",
     "state": {
      "_model_module": "@jupyter-widgets/controls",
      "_model_module_version": "1.5.0",
      "_model_name": "DescriptionStyleModel",
      "_view_count": null,
      "_view_module": "@jupyter-widgets/base",
      "_view_module_version": "1.2.0",
      "_view_name": "StyleView",
      "description_width": ""
     }
    },
    "dbded1203e604b0fb2469d72c6959400": {
     "model_module": "@jupyter-widgets/controls",
     "model_module_version": "1.5.0",
     "model_name": "ProgressStyleModel",
     "state": {
      "_model_module": "@jupyter-widgets/controls",
      "_model_module_version": "1.5.0",
      "_model_name": "ProgressStyleModel",
      "_view_count": null,
      "_view_module": "@jupyter-widgets/base",
      "_view_module_version": "1.2.0",
      "_view_name": "StyleView",
      "bar_color": null,
      "description_width": ""
     }
    },
    "e17ea2bf1d36486abeac8f523bbd96b9": {
     "model_module": "@jupyter-widgets/controls",
     "model_module_version": "1.5.0",
     "model_name": "HBoxModel",
     "state": {
      "_dom_classes": [],
      "_model_module": "@jupyter-widgets/controls",
      "_model_module_version": "1.5.0",
      "_model_name": "HBoxModel",
      "_view_count": null,
      "_view_module": "@jupyter-widgets/controls",
      "_view_module_version": "1.5.0",
      "_view_name": "HBoxView",
      "box_style": "",
      "children": [
       "IPY_MODEL_fe7cd7ba5b4045f3b2ff5961bbb3c0a5",
       "IPY_MODEL_9907d2fe7e4540b38fdc25c9d5603b93",
       "IPY_MODEL_519055accdd648febb1d92707c7986ac"
      ],
      "layout": "IPY_MODEL_fe1c02860de34e00b6e984f142d0b12e"
     }
    },
    "e791c851450546f383671edf2b0e3fbb": {
     "model_module": "@jupyter-widgets/base",
     "model_module_version": "1.2.0",
     "model_name": "LayoutModel",
     "state": {
      "_model_module": "@jupyter-widgets/base",
      "_model_module_version": "1.2.0",
      "_model_name": "LayoutModel",
      "_view_count": null,
      "_view_module": "@jupyter-widgets/base",
      "_view_module_version": "1.2.0",
      "_view_name": "LayoutView",
      "align_content": null,
      "align_items": null,
      "align_self": null,
      "border": null,
      "bottom": null,
      "display": null,
      "flex": null,
      "flex_flow": null,
      "grid_area": null,
      "grid_auto_columns": null,
      "grid_auto_flow": null,
      "grid_auto_rows": null,
      "grid_column": null,
      "grid_gap": null,
      "grid_row": null,
      "grid_template_areas": null,
      "grid_template_columns": null,
      "grid_template_rows": null,
      "height": null,
      "justify_content": null,
      "justify_items": null,
      "left": null,
      "margin": null,
      "max_height": null,
      "max_width": null,
      "min_height": null,
      "min_width": null,
      "object_fit": null,
      "object_position": null,
      "order": null,
      "overflow": null,
      "overflow_x": null,
      "overflow_y": null,
      "padding": null,
      "right": null,
      "top": null,
      "visibility": null,
      "width": null
     }
    },
    "e889073b12ed43e0bef92dd3bbb1a998": {
     "model_module": "@jupyter-widgets/controls",
     "model_module_version": "1.5.0",
     "model_name": "DescriptionStyleModel",
     "state": {
      "_model_module": "@jupyter-widgets/controls",
      "_model_module_version": "1.5.0",
      "_model_name": "DescriptionStyleModel",
      "_view_count": null,
      "_view_module": "@jupyter-widgets/base",
      "_view_module_version": "1.2.0",
      "_view_name": "StyleView",
      "description_width": ""
     }
    },
    "fbafa686231346ca842edf53deea3ab8": {
     "model_module": "@jupyter-widgets/controls",
     "model_module_version": "1.5.0",
     "model_name": "DescriptionStyleModel",
     "state": {
      "_model_module": "@jupyter-widgets/controls",
      "_model_module_version": "1.5.0",
      "_model_name": "DescriptionStyleModel",
      "_view_count": null,
      "_view_module": "@jupyter-widgets/base",
      "_view_module_version": "1.2.0",
      "_view_name": "StyleView",
      "description_width": ""
     }
    },
    "fe1c02860de34e00b6e984f142d0b12e": {
     "model_module": "@jupyter-widgets/base",
     "model_module_version": "1.2.0",
     "model_name": "LayoutModel",
     "state": {
      "_model_module": "@jupyter-widgets/base",
      "_model_module_version": "1.2.0",
      "_model_name": "LayoutModel",
      "_view_count": null,
      "_view_module": "@jupyter-widgets/base",
      "_view_module_version": "1.2.0",
      "_view_name": "LayoutView",
      "align_content": null,
      "align_items": null,
      "align_self": null,
      "border": null,
      "bottom": null,
      "display": null,
      "flex": null,
      "flex_flow": null,
      "grid_area": null,
      "grid_auto_columns": null,
      "grid_auto_flow": null,
      "grid_auto_rows": null,
      "grid_column": null,
      "grid_gap": null,
      "grid_row": null,
      "grid_template_areas": null,
      "grid_template_columns": null,
      "grid_template_rows": null,
      "height": null,
      "justify_content": null,
      "justify_items": null,
      "left": null,
      "margin": null,
      "max_height": null,
      "max_width": null,
      "min_height": null,
      "min_width": null,
      "object_fit": null,
      "object_position": null,
      "order": null,
      "overflow": null,
      "overflow_x": null,
      "overflow_y": null,
      "padding": null,
      "right": null,
      "top": null,
      "visibility": null,
      "width": null
     }
    },
    "fe52c8df0889424c8759fec6c9ed5929": {
     "model_module": "@jupyter-widgets/controls",
     "model_module_version": "1.5.0",
     "model_name": "DescriptionStyleModel",
     "state": {
      "_model_module": "@jupyter-widgets/controls",
      "_model_module_version": "1.5.0",
      "_model_name": "DescriptionStyleModel",
      "_view_count": null,
      "_view_module": "@jupyter-widgets/base",
      "_view_module_version": "1.2.0",
      "_view_name": "StyleView",
      "description_width": ""
     }
    },
    "fe7cd7ba5b4045f3b2ff5961bbb3c0a5": {
     "model_module": "@jupyter-widgets/controls",
     "model_module_version": "1.5.0",
     "model_name": "HTMLModel",
     "state": {
      "_dom_classes": [],
      "_model_module": "@jupyter-widgets/controls",
      "_model_module_version": "1.5.0",
      "_model_name": "HTMLModel",
      "_view_count": null,
      "_view_module": "@jupyter-widgets/controls",
      "_view_module_version": "1.5.0",
      "_view_name": "HTMLView",
      "description": "",
      "description_tooltip": null,
      "layout": "IPY_MODEL_61f4471e10cf4350bf57900bff27ab22",
      "placeholder": "​",
      "style": "IPY_MODEL_ac0a9ad93c194c52ac6cf5ccafeeab3a",
      "value": "100%"
     }
    }
   }
  }
 },
 "nbformat": 4,
 "nbformat_minor": 1
}
