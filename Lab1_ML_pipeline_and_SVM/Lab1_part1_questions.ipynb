{
  "cells": [
    {
      "cell_type": "markdown",
      "metadata": {
        "id": "Xa8RFOgNAhtR"
      },
      "source": [
        "*Credits: materials from this notebook belong to YSDA [Practical DL](https://github.com/yandexdataschool/Practical_DL) course. Special thanks for making them available online.*"
      ]
    },
    {
      "cell_type": "markdown",
      "metadata": {
        "id": "-w7YQ44xAhta"
      },
      "source": [
        "# Lab assignment №1, part 1\n",
        "\n",
        "This lab assignment consists of several parts. You are supposed to make some transformations, train some models, estimate the quality of the models and explain your results.\n",
        "\n",
        "Several comments:\n",
        "* Don't hesitate to ask questions, it's a good practice.\n",
        "* No private/public sharing, please. The copied assignments will be graded with 0 points.\n",
        "* Blocks of this lab will be graded separately."
      ]
    },
    {
      "cell_type": "markdown",
      "metadata": {
        "id": "aS9AVtBJAhtc"
      },
      "source": [
        "## 1. Matrix differentiation"
      ]
    },
    {
      "cell_type": "markdown",
      "metadata": {
        "id": "gTqlHtQ_Ahtd"
      },
      "source": [
        "Since it easy to google every task please please please try to undestand what's going on. The \"just answer\" thing will be not counted, make sure to present derivation of your solution. It is absolutely OK if you found an answer on web then just exercise in $\\LaTeX$ copying it into here."
      ]
    },
    {
      "cell_type": "markdown",
      "metadata": {
        "id": "Xvs0ADiiAhtf"
      },
      "source": [
        "Useful links: \n",
        "[1](http://www.machinelearning.ru/wiki/images/2/2a/Matrix-Gauss.pdf)\n",
        "[2](http://www.atmos.washington.edu/~dennis/MatrixCalculus.pdf)"
      ]
    },
    {
      "cell_type": "markdown",
      "metadata": {
        "id": "0tnJ8w0AAhtg"
      },
      "source": [
        "## ex. 1"
      ]
    },
    {
      "cell_type": "markdown",
      "metadata": {
        "id": "rH-NLo5tAhth"
      },
      "source": [
        "$$  \n",
        "y = x^Tx,  \\quad x \\in \\mathbb{R}^N \n",
        "$$"
      ]
    },
    {
      "cell_type": "markdown",
      "metadata": {
        "collapsed": true,
        "jupyter": {
          "outputs_hidden": true
        },
        "id": "btU_LzmVAhti"
      },
      "source": [
        "$$  \n",
        "\\frac{dy}{dx} = \\frac {d (x^Tx)}{dx} = x^T+ x^T = 2x, \\quad x \\in \\mathbb{R}^N\n",
        "$$\n",
        "(первая ссылка Таблица 1: Основные матричные тождества)\n"
      ]
    },
    {
      "cell_type": "markdown",
      "metadata": {
        "id": "CRGa_m5nAhtj"
      },
      "source": [
        "## ex. 2"
      ]
    },
    {
      "cell_type": "markdown",
      "metadata": {
        "id": "WGAMI2jPAhtk"
      },
      "source": [
        "$$ y = tr(AB) \\quad A,B \\in \\mathbb{R}^{N \\times N} $$ "
      ]
    },
    {
      "cell_type": "markdown",
      "metadata": {
        "collapsed": true,
        "jupyter": {
          "outputs_hidden": true
        },
        "id": "70fE7HOrAhtl"
      },
      "source": [
        "$$\n",
        "\\frac{dy}{dA} = \\frac{d(tr(AB))}{dA} = B^T\n",
        "$$\n",
        "(первая ссылка Таблица 1: Основные матричные тождества)"
      ]
    },
    {
      "cell_type": "markdown",
      "metadata": {
        "id": "AfwjV20oAhtm"
      },
      "source": [
        "## ex. 3"
      ]
    },
    {
      "cell_type": "markdown",
      "metadata": {
        "id": "mGrV1WKvAhtn"
      },
      "source": [
        "$$  \n",
        "y = x^TAc , \\quad A\\in \\mathbb{R}^{N \\times N}, x\\in \\mathbb{R}^{N}, c\\in \\mathbb{R}^{N} \n",
        "$$"
      ]
    },
    {
      "cell_type": "markdown",
      "metadata": {
        "id": "A1120Q69Ahtn"
      },
      "source": [
        "$$\n",
        "\\frac{dy}{dx} = \\frac{d(x^TAc)}{dx} = с^TA^T\n",
        "$$"
      ]
    },
    {
      "cell_type": "markdown",
      "metadata": {
        "id": "8oYLicvIAhtp"
      },
      "source": [
        "$$\n",
        "\\frac{dy}{dA} = \\frac{d(x^TAc)}{dA}=xc^T\n",
        "$$ \n",
        "(вторая ссылка Proposition 7) и (первая ссылка Таблица 1: Основные матричные тождества)"
      ]
    },
    {
      "cell_type": "markdown",
      "metadata": {
        "id": "ySSmiIDyAhtq"
      },
      "source": [
        "Hint for the latter (one of the ways): use *ex. 2* result and the fact \n",
        "$$\n",
        "tr(ABC) = tr (CAB)\n",
        "$$"
      ]
    },
    {
      "cell_type": "code",
      "execution_count": null,
      "metadata": {
        "collapsed": true,
        "jupyter": {
          "outputs_hidden": true
        },
        "id": "YRJ_Z-VyAhtr"
      },
      "outputs": [],
      "source": []
    },
    {
      "cell_type": "markdown",
      "metadata": {
        "id": "SgJZRPNRAhts"
      },
      "source": [
        "## ex. 4"
      ]
    },
    {
      "cell_type": "markdown",
      "metadata": {
        "id": "-Wk4bzZuAhts"
      },
      "source": [
        "Classic matrix factorization example. Given matrix $X$ you need to find $A$, $S$ to approximate $X$. This can be done by simple gradient descent iteratively alternating $A$ and $S$ updates.\n",
        "$$\n",
        "J = || X - AS ||_F^2  , \\quad A\\in \\mathbb{R}^{N \\times R} , \\quad S\\in \\mathbb{R}^{R \\times M}\n",
        "$$\n",
        "$$\n",
        "\\frac{dJ}{dS} = \\frac{d (|| X - AS ||_F^2)}{dS} = \\frac{d (tr[(X - AS)^T(X - AS)] )}{dS} = \\frac{d (tr[X^TX-2S^TA^TX+S^TA^TAS] )}{dS}=-2A^TX+2A^TAS\n",
        "$$\n",
        "\n",
        "You may use one of the following approaches:"
      ]
    },
    {
      "cell_type": "markdown",
      "metadata": {
        "id": "LxUjeWhvAhtt"
      },
      "source": [
        "#### First approach\n",
        "Using ex.2 and the fact:\n",
        "$$\n",
        "|| X ||_F^2 = tr(X^TX) \n",
        "$$ \n",
        "it is easy to derive gradients (you can find it in one of the refs). "
      ]
    },
    {
      "cell_type": "markdown",
      "metadata": {
        "id": "pS4TVBRQAhtt"
      },
      "source": [
        "#### Second approach\n",
        "You can use *slightly different techniques* if they suits you. Take a look at this derivation:\n",
        "<img src=\"grad.png\">\n",
        "(excerpt from [Handbook of blind source separation, Jutten, page 517](https://books.google.ru/books?id=PTbj03bYH6kC&printsec=frontcover&dq=Handbook+of+Blind+Source+Separation&hl=en&sa=X&ved=0ahUKEwi-q_apiJDLAhULvXIKHVXJDWcQ6AEIHDAA#v=onepage&q=Handbook%20of%20Blind%20Source%20Separation&f=false), open for better picture)."
      ]
    },
    {
      "cell_type": "markdown",
      "metadata": {
        "id": "lA9S9y7sAhtv"
      },
      "source": [
        "#### Third approach\n",
        "And finally we can use chain rule! \n",
        "let $ F = AS $ \n",
        "\n",
        "**Find**\n",
        "$$\n",
        "\\frac{dJ}{dF} =  \\frac{d (|| X - AS ||_F^2)}{dF} = \\frac{d (tr[(X - AS)^T(X - AS)])}{dF}=\\frac{d (tr[X^TX-2S^TA^TX+S^TA^TAS] )}{dF}=-2X+2AS\n",
        "$$ \n",
        "and \n",
        "$$\n",
        "\\frac{dF}{dS} = \\frac{d(AS)}{dS} =A^T\n",
        "$$ \n",
        "(the shape should be $ NM \\times RM )$.\n",
        "\n",
        "Now it is easy do get desired gradients:\n",
        "$$\n",
        "\\frac{dJ}{dS} = -2A^TX+2A^TAS\n",
        "$$ "
      ]
    },
    {
      "cell_type": "markdown",
      "metadata": {
        "collapsed": true,
        "jupyter": {
          "outputs_hidden": true
        },
        "id": "Nb89B8bwAhtw"
      },
      "source": [
        "## 2. kNN questions\n",
        "Here come the questions from the assignment0_01. Please, refer to the assignment0_01 to get the context of the questions."
      ]
    },
    {
      "cell_type": "markdown",
      "metadata": {
        "id": "KK1t-T9IAhtw"
      },
      "source": [
        "### Question 1\n",
        "\n",
        "Notice the structured patterns in the distance matrix, where some rows or columns are visible brighter. (Note that with the default color scheme black indicates low distances while white indicates high distances.)\n",
        "\n",
        "- What in the data is the cause behind the distinctly bright rows?\n",
        "- What causes the columns?\n",
        "\n",
        "*Your Answer:* Черный цвет - маленькое расстояние, белый цвет - большое расстояние. Строки - данные на тесте (100 цифр, их количество: 11, 12, 10, 12, 8, 9, 11, 10, 8, 9), столбцы - обучающая выборка (1697 цифр, их количество: 167, 170, 167, 171, 173, 173, 170, 169, 166, 171). Причиной ярких строк (непохожесть теста на выборку) может быть то, что данная цифра записана по-другому (например, многие пишут один как 1, а кто-то как l), либо что в столбцах указаны цифры \"непохожие\" т.к. данные перемешаны (после цифры i не всегда идет i+1). \n",
        "\n",
        "Причиной ярких столбцов может быть то, что данная цифра записана по-другому, либо что в строках указаны цифры \"непохожие\"."
      ]
    },
    {
      "cell_type": "markdown",
      "metadata": {
        "id": "XOCuANWTAhtx"
      },
      "source": [
        "### Question 2\n",
        "\n",
        "We can also use other distance metrics such as L1 distance.\n",
        "For pixel values $p_{ij}^{(k)}$ at location $(i,j)$ of some image $I_k$, \n",
        "\n",
        "the mean $\\mu$ across all pixels over all images is $$\\mu=\\frac{1}{nhw}\\sum_{k=1}^n\\sum_{i=1}^{h}\\sum_{j=1}^{w}p_{ij}^{(k)}$$\n",
        "And the pixel-wise mean $\\mu_{ij}$ across all images is \n",
        "$$\\mu_{ij}=\\frac{1}{n}\\sum_{k=1}^np_{ij}^{(k)}.$$\n",
        "The general standard deviation $\\sigma$ and pixel-wise standard deviation $\\sigma_{ij}$ is defined similarly.\n",
        "\n",
        "Which of the following preprocessing steps will not change the performance of a Nearest Neighbor classifier that uses L1 distance? Select all that apply.\n",
        "1. Subtracting the mean $\\mu$ ($\\tilde{p}_{ij}^{(k)}=p_{ij}^{(k)}-\\mu$.)\n",
        "2. Subtracting the per pixel mean $\\mu_{ij}$  ($\\tilde{p}_{ij}^{(k)}=p_{ij}^{(k)}-\\mu_{ij}$.)\n",
        "3. Subtracting the mean $\\mu$ and dividing by the standard deviation $\\sigma$.\n",
        "4. Subtracting the pixel-wise mean $\\mu_{ij}$ and dividing by the pixel-wise standard deviation $\\sigma_{ij}$.\n",
        "5. Rotating the coordinate axes of the data.\n",
        "\n",
        "*Your Answer:* 1, 3\n",
        "\n",
        "\n",
        "*Your Explanation:*\n",
        "1.  Вычитание среднего не повлияет на производительность классификатора: $$|| (х - m) - (у - m) || = || х - у ||$$\n",
        "2.  Повлияет т.к. среднее по пикселю\n",
        "3.  Вычитание среднего и делении на стандартное отклонение не повлияет на производительность классификатора: пункт 1 и при делении на стандартное отклонение произойдет масштабирование L1\n",
        "4.  Повлияет: пункт 2 и стандартное отклонение будет различным\n",
        "5.  Повлияет. Рассмотрим 3 вектора: x = $\\begin{pmatrix} 0\\\\ 1 \\end{pmatrix}$, y = $\\begin{pmatrix} 1\\\\ 0 \\end{pmatrix}$, z = $\\begin{pmatrix} 1 \\\\ 2 \\end{pmatrix}$\n",
        "    $$|| y - x ||_ 1  = || y - z ||_1 = 2$$\n",
        "    Матрицу поворота:    \n",
        "   A = $\\begin{pmatrix} \\frac{\\sqrt{2}}{2} & -\\frac{\\sqrt{2}}{2} \\\\ \\frac{\\sqrt{2}}{2} & \\frac{\\sqrt{2}}{2} \\end{pmatrix}$\n",
        "   \n",
        "  x' = Ax = $\\begin{pmatrix} -\\frac{\\sqrt{2}}{2} \\\\ \\frac{\\sqrt{2}}{2}  \\end{pmatrix}$\n",
        "    \n",
        "  y' = Ay = $\\begin{pmatrix} \\frac{\\sqrt{2}}{2} \\\\ \\frac{\\sqrt{2}}{2}  \\end{pmatrix}$\n",
        "    \n",
        "  z' = Az = $\\begin{pmatrix} \\frac{ -\\sqrt{2}}{2} \\\\ \\frac{3\\sqrt{2}} {2}  \\end{pmatrix}$\n",
        "    \n",
        "  y' - x' = $\\begin{pmatrix} { \\sqrt{2}} \\\\ 0  \\end{pmatrix}$\n",
        "    \n",
        "  y' - z' =  $\\begin{pmatrix} { \\sqrt{2}} \\\\ { -\\sqrt{2}}  \\end{pmatrix}$\n",
        "    \n",
        "  $$|| y' - x' ||_ 1 \\neq || y' - z' ||_1$$\n",
        "    \n",
        "  Поэтому вращение осей пoвлияет на производительность классификатора"
      ]
    },
    {
      "cell_type": "markdown",
      "metadata": {
        "id": "bAnShSQqAhty"
      },
      "source": [
        "## Question 3\n",
        "\n",
        "Which of the following statements about $k$-Nearest Neighbor ($k$-NN) are true in a classification setting, and for all $k$? Select all that apply.\n",
        "1. The decision boundary (hyperplane between classes in feature space) of the k-NN classifier is linear.\n",
        "2. The training error of a 1-NN will always be lower than that of 5-NN.\n",
        "3. The test error of a 1-NN will always be lower than that of a 5-NN.\n",
        "4. The time needed to classify a test example with the k-NN classifier grows with the size of the training set.\n",
        "5. None of the above.\n",
        "\n",
        "*Your Answer:* 2, 4\n",
        "\n",
        "*Your Explanation:*\n",
        "1. Граница решений не всегда является линейной\n",
        "2. Верно, что ошибка обучения 1-NN всегда будет ниже, чем у 5-NN\n",
        "3. Ошибка тестирования 1-NN не всегда будет ниже, чем для 5-NN\n",
        "4. Верно, что время, необходимое для классификации тестового примера с помощью классификатора k-NN, растет с размером обучающей выборки."
      ]
    },
    {
      "cell_type": "code",
      "execution_count": null,
      "metadata": {
        "id": "MyYqg2BvAhty"
      },
      "outputs": [],
      "source": []
    }
  ],
  "metadata": {
    "kernelspec": {
      "display_name": "Python 3",
      "language": "python",
      "name": "python3"
    },
    "language_info": {
      "codemirror_mode": {
        "name": "ipython",
        "version": 3
      },
      "file_extension": ".py",
      "mimetype": "text/x-python",
      "name": "python",
      "nbconvert_exporter": "python",
      "pygments_lexer": "ipython3",
      "version": "3.8.10"
    },
    "colab": {
      "provenance": []
    }
  },
  "nbformat": 4,
  "nbformat_minor": 0
}